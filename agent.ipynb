{
 "cells": [
  {
   "cell_type": "code",
   "execution_count": 1,
   "metadata": {},
   "outputs": [
    {
     "name": "stderr",
     "output_type": "stream",
     "text": [
      "/Users/dnoordman/ai-workshop/.venv/lib/python3.12/site-packages/pydantic/_internal/_config.py:345: UserWarning: Valid config keys have changed in V2:\n",
      "* 'fields' has been removed\n",
      "  warnings.warn(message, UserWarning)\n",
      "/Users/dnoordman/ai-workshop/.venv/lib/python3.12/site-packages/tqdm/auto.py:21: TqdmWarning: IProgress not found. Please update jupyter and ipywidgets. See https://ipywidgets.readthedocs.io/en/stable/user_install.html\n",
      "  from .autonotebook import tqdm as notebook_tqdm\n"
     ]
    }
   ],
   "source": [
    "# the framework we rely on, see: https://dspy.ai/ and https://dspy.ai/tutorials/agents/ \n",
    "import dspy\n",
    "\n",
    "# I created 2 github tools, that the agent can use\n",
    "from summarizer.github_tools import read_github_file, search_github\n",
    "\n",
    "# We reuse the tools created in part 1, as these can be used by the agent to use when they think its needed\n",
    "from summarizer.main import generate_summary\n",
    "from summarizer.main import main as get_diff\n",
    "\n",
    "from summarizer.argparsing import DEFAULT_PROJECT_FOLDER"
   ]
  },
  {
   "cell_type": "code",
   "execution_count": 2,
   "metadata": {},
   "outputs": [],
   "source": [
    "# MLFlow is a tool that can be used to track ML experiments and evaluate model training.\n",
    "# Currently its upgraded with `traces` that is super cool to use and track AI agents.\n",
    "\n",
    "import mlflow\n",
    "mlflow.set_tracking_uri(\"http://localhost:5000\")\n",
    "mlflow.set_experiment(\"ai-workshop2\")\n",
    "mlflow.dspy.autolog()"
   ]
  },
  {
   "cell_type": "code",
   "execution_count": 3,
   "metadata": {},
   "outputs": [],
   "source": [
    "# We create a wrapper around the generate_summary function, so that it can be used by the agent.\n",
    "# The main/only improvement is that we add typehinting, so that the agent knows what goes in/out.\n",
    "def generate_summary_tool(diff: str) -> str:\n",
    "    return generate_summary(diff)\n"
   ]
  },
  {
   "cell_type": "code",
   "execution_count": 4,
   "metadata": {},
   "outputs": [
    {
     "name": "stderr",
     "output_type": "stream",
     "text": [
      "INFO:root:Using args: Namespace(base_branch='main', feature_branch='newbranch', project_folder='/Users/dnoordman/connectedbrewery/terraform-aws-uc-d06a/.', log_level='INFO')\n"
     ]
    }
   ],
   "source": [
    "# create dspy LM object\n",
    "lm = dspy.LM(\"ollama_chat/llama3.2\", api_base=\"http://localhost:11434\", api_key=\"\")\n",
    "\n",
    "# configure this as the default LLM to use in dspy functions\n",
    "dspy.configure(lm=lm)\n",
    "\n",
    "# create instructions for the agent\n",
    "instructions = \"Find all code references that might be impacted by the code change in the code_diff.\"\n",
    "\n",
    "# Dspy relies on the concept of `signature` to define the input and output of the agent.\n",
    "signature = dspy.Signature(\"code_diff -> code_references: list[str]\", instructions)\n",
    "\n",
    "# create the agent, and define which tools it can use\n",
    "react = dspy.ReAct(signature, tools=[generate_summary_tool, search_github, read_github_file], max_iters=2)"
   ]
  },
  {
   "cell_type": "code",
   "execution_count": 5,
   "metadata": {},
   "outputs": [
    {
     "name": "stderr",
     "output_type": "stream",
     "text": [
      "INFO:root:Using args: Namespace(base_branch='main', feature_branch='newbranch', project_folder='/Users/dnoordman/connectedbrewery/terraform-aws-uc-d06a/.', log_level='INFO')\n"
     ]
    }
   ],
   "source": [
    "# Now lets start!\n",
    "# We will use our previous project to get the PR diff and pass this in the agent to complete the `instructions`\n",
    "\n",
    "diff = get_diff(\n",
    "    args_list=[\"--project_folder\", DEFAULT_PROJECT_FOLDER, \"--log-level\", \"INFO\"],\n",
    "    summarize=False,\n",
    ")\n",
    "r = react(code_diff=diff)"
   ]
  }
 ],
 "metadata": {
  "kernelspec": {
   "display_name": ".venv",
   "language": "python",
   "name": "python3"
  },
  "language_info": {
   "codemirror_mode": {
    "name": "ipython",
    "version": 3
   },
   "file_extension": ".py",
   "mimetype": "text/x-python",
   "name": "python",
   "nbconvert_exporter": "python",
   "pygments_lexer": "ipython3",
   "version": "3.12.8"
  }
 },
 "nbformat": 4,
 "nbformat_minor": 2
}
